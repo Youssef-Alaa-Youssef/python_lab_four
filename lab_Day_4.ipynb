{
 "cells": [
  {
   "cell_type": "code",
   "execution_count": 4,
   "metadata": {},
   "outputs": [
    {
     "name": "stdout",
     "output_type": "stream",
     "text": [
      "\n",
      "1\n",
      "2\n",
      "False\n",
      "3\n",
      "True\n",
      "Warning: Queue is empty\n",
      "None\n"
     ]
    }
   ],
   "source": [
    "# Question One \n",
    "class QueueDataStructure:\n",
    "    def __init__(self):\n",
    "        self.items = []\n",
    "\n",
    "    \n",
    "    def __len__(self):\n",
    "        return len(self.items)\n",
    "    \n",
    "    def insert(self, value):\n",
    "        self.items.append(value)\n",
    "\n",
    "    def pop(self):\n",
    "        if self.is_empty():\n",
    "            print(\"Warning: Queue is empty\")\n",
    "            return None\n",
    "        else:\n",
    "            return self.items.pop(0)\n",
    "\n",
    "    def is_empty(self):\n",
    "        return len(self.items) == 0\n",
    "\n",
    "\n",
    "q = QueueDataStructure()\n",
    "\n",
    "q.insert(1)\n",
    "q.insert(2)\n",
    "q.insert(3)\n",
    "print() \n",
    "print(q.pop())  # Output: 1\n",
    "print(q.pop())  # Output: 2\n",
    "print(q.is_empty())  # Output: False\n",
    "print(q.pop())  # Output: 3\n",
    "print(q.is_empty())  # Output: True\n",
    "print(q.pop())  \n",
    "\n",
    "\n",
    "\n",
    "\n"
   ]
  },
  {
   "cell_type": "code",
   "execution_count": 5,
   "metadata": {},
   "outputs": [
    {
     "name": "stdout",
     "output_type": "stream",
     "text": [
      "Dicrionary With keys and values: {'Youssef': [10, 11, 12, 13, 14, 15], 'Alaa': ['Youssef', 'Alaa', 'Youssef']}\n",
      "values by key Youssef [10, 11, 12, 13, 14, 15]\n",
      "values by key Alaa ['Youssef', 'Alaa', 'Youssef']\n"
     ]
    }
   ],
   "source": [
    "\n",
    "# Question Two\n",
    "class QueueName(QueueDataStructure):\n",
    "    allQueues = {}\n",
    "\n",
    "    def __init__(self, name, size):\n",
    "        super().__init__()\n",
    "        self.name = name\n",
    "        self.size = size\n",
    "        self.queue = []\n",
    "        self.allQueues[name] = self.queue\n",
    "\n",
    "    def appending(self, value):\n",
    "        if len(self.queue) == self.size:\n",
    "            raise Exception(\"Queue is full\")\n",
    "        self.queue.append(value)\n",
    "\n",
    "    def removing(self):\n",
    "        if not self.queue:\n",
    "            return None\n",
    "        return self.queue.pop(0)\n",
    "\n",
    "    @classmethod\n",
    "    def getQueueByName(cls, name):\n",
    "        return cls.allQueues.get(name)\n",
    "\n",
    "nameQueueObjectOne = QueueName(\"Youssef\",6)\n",
    "\n",
    "nameQueueObjectOne.appending(10)\n",
    "nameQueueObjectOne.appending(11)\n",
    "nameQueueObjectOne.appending(12)\n",
    "nameQueueObjectOne.appending(13)\n",
    "nameQueueObjectOne.appending(14)\n",
    "nameQueueObjectOne.appending(15)\n",
    "# nameQueueObjectOne.appending(16) # Raise error (the queue is full)\n",
    "\n",
    "\n",
    "nameQueueObjectTwo =QueueName(\"Alaa\",3)\n",
    "\n",
    "nameQueueObjectTwo.appending(\"Youssef\")\n",
    "nameQueueObjectTwo.appending(\"Alaa\")\n",
    "nameQueueObjectTwo.appending(\"Youssef\")\n",
    "\n",
    "\n",
    "\n",
    "\n",
    "print(f\"Dicrionary With keys and values: {QueueName.allQueues}\")\n",
    "\n",
    "print(\"values by key Youssef\",QueueName.getQueueByName(\"Youssef\"))\n",
    "print(\"values by key Alaa\",QueueName.getQueueByName(\"Alaa\"))\n"
   ]
  },
  {
   "cell_type": "code",
   "execution_count": 6,
   "metadata": {},
   "outputs": [
    {
     "name": "stdout",
     "output_type": "stream",
     "text": [
      "10.0\n",
      "(38.13, 20.5)\n"
     ]
    }
   ],
   "source": [
    "# Question Three\n",
    "import requests\n",
    "\n",
    "class WeatherApiClient:\n",
    "    def __init__(self, api_key):\n",
    "        self.api_key = api_key\n",
    "        self.base_url = \"https://api.weatherapi.com/v1/\"\n",
    "\n",
    "    def get_current_temperature(self, city):\n",
    "        endpoint = \"current.json\"\n",
    "        params = {\"key\": self.api_key, \"q\": city}\n",
    "        response = requests.get(self.base_url + endpoint, params=params)\n",
    "        data = response.json()\n",
    "        temperature = data[\"current\"][\"temp_c\"]\n",
    "        return temperature\n",
    "\n",
    "    def get_lat_and_long(self, city):\n",
    "        endpoint = \"current.json\"\n",
    "        params = {\"key\": self.api_key, \"q\": city}\n",
    "        response = requests.get(self.base_url + endpoint, params=params)\n",
    "        data = response.json()\n",
    "        latitude = data[\"location\"][\"lat\"]\n",
    "        longitude = data[\"location\"][\"lon\"]\n",
    "        return latitude, longitude\n",
    "\n",
    "weather = WeatherApiClient(\"84d5eff3327c4a6ab7d203114231602\")\n",
    "\n",
    "print(weather.get_current_temperature(\"minia\"))\n",
    "print(weather.get_lat_and_long(\"minia\"))"
   ]
  },
  {
   "cell_type": "code",
   "execution_count": null,
   "metadata": {},
   "outputs": [],
   "source": []
  }
 ],
 "metadata": {
  "kernelspec": {
   "display_name": "Python 3",
   "language": "python",
   "name": "python3"
  },
  "language_info": {
   "codemirror_mode": {
    "name": "ipython",
    "version": 3
   },
   "file_extension": ".py",
   "mimetype": "text/x-python",
   "name": "python",
   "nbconvert_exporter": "python",
   "pygments_lexer": "ipython3",
   "version": "3.11.0rc1"
  },
  "orig_nbformat": 4,
  "vscode": {
   "interpreter": {
    "hash": "ead1b95f633dc9c51826328e1846203f51a198c6fb5f2884a80417ba131d4e82"
   }
  }
 },
 "nbformat": 4,
 "nbformat_minor": 2
}
